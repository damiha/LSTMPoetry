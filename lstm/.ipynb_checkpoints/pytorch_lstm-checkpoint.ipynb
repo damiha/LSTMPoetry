{
 "cells": [
  {
   "cell_type": "code",
   "execution_count": 1,
   "metadata": {},
   "outputs": [],
   "source": [
    "import numpy as np\n",
    "import torch\n",
    "import matplotlib.pyplot as plt\n",
    "import torch.nn as nn\n",
    "import torch.nn.functional as F\n",
    "import pickle\n",
    "import time\n",
    "from pytorch_lstm import PytorchLSTMModel"
   ]
  },
  {
   "cell_type": "code",
   "execution_count": 2,
   "metadata": {},
   "outputs": [],
   "source": [
    "with open(\"gedichte_large.txt\", \"r\") as f:\n",
    "    train_text = f.read()\n",
    "    \n",
    "with open(\"gedichte_validation_large.txt\", \"r\") as f:\n",
    "    val_text = f.read()"
   ]
  },
  {
   "cell_type": "code",
   "execution_count": 3,
   "metadata": {},
   "outputs": [],
   "source": [
    "chars = list(sorted(set(train_text)))"
   ]
  },
  {
   "cell_type": "code",
   "execution_count": 4,
   "metadata": {},
   "outputs": [],
   "source": [
    "val_text = \"\".join(list(filter(lambda c: c in chars, val_text)))"
   ]
  },
  {
   "cell_type": "code",
   "execution_count": 5,
   "metadata": {},
   "outputs": [],
   "source": [
    "c_to_i = {c : i for i, c in enumerate(chars)}\n",
    "i_to_c = {i: c for i, c in enumerate(chars)}"
   ]
  },
  {
   "cell_type": "code",
   "execution_count": 6,
   "metadata": {},
   "outputs": [],
   "source": [
    "def encode(s):\n",
    "    res = list(map(lambda c: c_to_i[c], s))\n",
    "    return torch.tensor(res)"
   ]
  },
  {
   "cell_type": "code",
   "execution_count": 7,
   "metadata": {},
   "outputs": [],
   "source": [
    "def decode(t):\n",
    "    \n",
    "    if isinstance(t, torch.Tensor):\n",
    "        t = t.tolist()\n",
    "        \n",
    "    return \"\".join(list(map(lambda i: i_to_c[i], t)))"
   ]
  },
  {
   "cell_type": "code",
   "execution_count": 8,
   "metadata": {},
   "outputs": [],
   "source": [
    "train_data = encode(train_text)\n",
    "val_data = encode(val_text)"
   ]
  },
  {
   "cell_type": "code",
   "execution_count": 9,
   "metadata": {},
   "outputs": [],
   "source": [
    "block_size = 128"
   ]
  },
  {
   "cell_type": "code",
   "execution_count": 10,
   "metadata": {
    "scrolled": true
   },
   "outputs": [],
   "source": [
    "def get_X_y(data, block_size):\n",
    "\n",
    "    X = []\n",
    "    y = []\n",
    "\n",
    "    for start_idx in range(block_size, len(data)-1):\n",
    "        X.append(data[start_idx-block_size:start_idx])\n",
    "        y.append(data[start_idx-block_size + 1: start_idx + 1])\n",
    "\n",
    "    X = torch.stack(X)  # Convert X to a PyTorch tensor\n",
    "    y = torch.stack(y)\n",
    "    \n",
    "    return X, y"
   ]
  },
  {
   "cell_type": "code",
   "execution_count": 11,
   "metadata": {},
   "outputs": [],
   "source": [
    "X_train, y_train = get_X_y(train_data, block_size)\n",
    "X_val, y_val = get_X_y(val_data, block_size)"
   ]
  },
  {
   "cell_type": "code",
   "execution_count": 12,
   "metadata": {},
   "outputs": [
    {
     "name": "stdout",
     "output_type": "stream",
     "text": [
      "training set size = 4195004, validation set size = 54463\n"
     ]
    }
   ],
   "source": [
    "# data set sizes\n",
    "print(f\"training set size = {len(X_train)}, validation set size = {len(X_val)}\")"
   ]
  },
  {
   "cell_type": "code",
   "execution_count": 13,
   "metadata": {},
   "outputs": [
    {
     "name": "stdout",
     "output_type": "stream",
     "text": [
      "vocab_size = 154\n"
     ]
    }
   ],
   "source": [
    "print(f\"vocab_size = {len(chars)}\")"
   ]
  },
  {
   "cell_type": "code",
   "execution_count": 14,
   "metadata": {},
   "outputs": [],
   "source": [
    "enable_cuda = True"
   ]
  },
  {
   "cell_type": "code",
   "execution_count": 15,
   "metadata": {},
   "outputs": [
    {
     "name": "stdout",
     "output_type": "stream",
     "text": [
      "device = cuda\n"
     ]
    }
   ],
   "source": [
    "lstm_model = PytorchLSTMModel(n_chars = len(chars), n_embed = 32, block_size = block_size, enable_cuda = enable_cuda)"
   ]
  },
  {
   "cell_type": "code",
   "execution_count": 55,
   "metadata": {},
   "outputs": [
    {
     "name": "stderr",
     "output_type": "stream",
     "text": [
      "100%|███████████████████████████████████████| 4097/4097 [30:52<00:00,  2.21it/s]\n"
     ]
    },
    {
     "name": "stdout",
     "output_type": "stream",
     "text": [
      "1. train loss = 1.332854662547904, val loss = 1.6885935884934884\n",
      "Training took 1.86e+03 seconds, (cuda = True)\n"
     ]
    }
   ],
   "source": [
    "N = len(X_train)\n",
    "\n",
    "start_time = time.time()\n",
    "\n",
    "lstm_model.train(X_train[:N], y_train[:N], X_val[:N], y_val[:N], n_epochs = 1, lr=3e-4, batch_size = 1024)\n",
    "\n",
    "end_time= time.time()\n",
    "\n",
    "print(f\"Training took {end_time - start_time:.3} seconds, (cuda = {enable_cuda})\")"
   ]
  },
  {
   "cell_type": "code",
   "execution_count": 56,
   "metadata": {},
   "outputs": [
    {
     "data": {
      "image/png": "[encoded data removed]",
      "text/plain": [
       "<Figure size 640x480 with 1 Axes>"
      ]
     },
     "metadata": {},
     "output_type": "display_data"
    }
   ],
   "source": [
    "plt.plot(lstm_model.train_loss_per_epoch, label=\"train_loss\")\n",
    "plt.plot(lstm_model.val_loss_per_epoch, label=\"val_loss\")\n",
    "plt.xlabel(\"epochs\")\n",
    "plt.legend()\n",
    "plt.show()"
   ]
  },
  {
   "cell_type": "code",
   "execution_count": 58,
   "metadata": {},
   "outputs": [],
   "source": [
    "prompt_str = \"Frühling ist so schön\\nSommer ist noch besser\""
   ]
  },
  {
   "cell_type": "code",
   "execution_count": 59,
   "metadata": {
    "scrolled": true
   },
   "outputs": [
    {
     "name": "stdout",
     "output_type": "stream",
     "text": [
      "prompt length = 44\n"
     ]
    }
   ],
   "source": [
    "prompt = encode(prompt_str)\n",
    "\n",
    "print(f\"prompt length = {len(prompt)}\")"
   ]
  },
  {
   "cell_type": "code",
   "execution_count": 60,
   "metadata": {},
   "outputs": [
    {
     "name": "stdout",
     "output_type": "stream",
     "text": [
      "Frühling ist so schön\n",
      "Sommer ist noch besser\n"
     ]
    }
   ],
   "source": [
    "print(prompt_str)"
   ]
  },
  {
   "cell_type": "code",
   "execution_count": 61,
   "metadata": {},
   "outputs": [],
   "source": [
    "gen = lstm_model.generate(context=prompt, n = 1000, temperature=0.8)"
   ]
  },
  {
   "cell_type": "code",
   "execution_count": 62,
   "metadata": {},
   "outputs": [
    {
     "name": "stdout",
     "output_type": "stream",
     "text": [
      " bewegt –\n",
      "\n",
      "\n",
      "Als ich zu den Himmel schreiten.\n",
      "\n",
      "\n",
      "\n",
      "\n",
      "\n",
      "Auf einen Sternen. Im Jarol 1938\n",
      "\n",
      "\n",
      "\n",
      "Unter Schaaren hinternd ergriffen\n",
      "\n",
      "Die Dunkel als Spielzeug der Freiheit\n",
      "Dich herauf, die Erde kranke,\n",
      "\n",
      "\n",
      "Und Standpalanen dann der Jugend ab –\n",
      "\n",
      "Um euch in der Demus und ihn, sich nicht sieht sie vom\n",
      "eine Kolomene selig schön.\n",
      "\n",
      "Die Welt durchlagt an unsere Brüste\n",
      "\n",
      "\n",
      "Armes zu stropfen Wilhelmraum – –\n",
      "\n",
      "Schöne Meladeewunden.\n",
      "Die Taumeln drang vor ihren Tagen\n",
      "\n",
      "\n",
      "Und Blumen, die sich nur gestaltet,\n",
      "\n",
      "Und wird die herrlichsten der Gestalt,\n",
      "Wir\n",
      "gebendet\n",
      "der\n",
      "Arbeit Ihr erkennen.\n",
      "\n",
      "\n",
      "\n",
      "\n",
      "\n",
      "\n",
      "\n",
      "\n",
      "Frau Wilderbau.\n",
      "\n",
      "Das Sonnenlicht und wie von Hintertument\n",
      "Aus der Geste knallene.\n",
      "\n",
      "\n",
      "\n",
      "\n",
      "\n",
      "\n",
      "\n",
      "Der Geisterstande\n",
      "\n",
      "Herrscht das Frauendunkel auch in Winde –\n",
      "\n",
      "\n",
      "Meckerte in den Tannen\n",
      "\n",
      "Sind die Welt im stillen Nacht.\n",
      "Und als das Schieber sey nicht immer geruht,\n",
      "\n",
      "\n",
      "Denn nimmer wo das Parademie\n",
      "\n",
      "Geht alles andre Leute voll.\n",
      "\n",
      "\n",
      "\n",
      "\n",
      "Es war ein Spielmann aus dem reinen\n",
      "Traumgesichter vorüber in die Baillen.\n",
      "\n",
      "\n",
      "\n",
      "\n",
      "\n",
      "\n",
      "\n",
      "\n",
      "\n",
      "Die Nacht.\n",
      "\n",
      "(1889.)\n",
      "\n",
      "Nimm das Ei\n"
     ]
    }
   ],
   "source": [
    "print(decode(gen))"
   ]
  },
  {
   "cell_type": "code",
   "execution_count": 57,
   "metadata": {},
   "outputs": [
    {
     "name": "stdout",
     "output_type": "stream",
     "text": [
      "Model successfully saved to german_poems_large_4.pth\n"
     ]
    }
   ],
   "source": [
    "lstm_model.save_model(\"german_poems_large_4.pth\")"
   ]
  },
  {
   "cell_type": "code",
   "execution_count": null,
   "metadata": {},
   "outputs": [],
   "source": []
  }
 ],
 "metadata": {
  "kernelspec": {
   "display_name": "inpainting",
   "language": "python",
   "name": "myenv"
  },
  "language_info": {
   "codemirror_mode": {
    "name": "ipython",
    "version": 3
   },
   "file_extension": ".py",
   "mimetype": "text/x-python",
   "name": "python",
   "nbconvert_exporter": "python",
   "pygments_lexer": "ipython3",
   "version": "3.10.9"
  }
 },
 "nbformat": 4,
 "nbformat_minor": 5
}
